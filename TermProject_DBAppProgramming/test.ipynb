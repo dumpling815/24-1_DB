{
 "cells": [
  {
   "cell_type": "code",
   "execution_count": 11,
   "metadata": {},
   "outputs": [
    {
     "ename": "TypeError",
     "evalue": "'decimal.Decimal' object is not subscriptable",
     "output_type": "error",
     "traceback": [
      "\u001b[1;31m---------------------------------------------------------------------------\u001b[0m",
      "\u001b[1;31mTypeError\u001b[0m                                 Traceback (most recent call last)",
      "Cell \u001b[1;32mIn[11], line 13\u001b[0m\n\u001b[0;32m     11\u001b[0m mov_res \u001b[38;5;241m=\u001b[39m cur\u001b[38;5;241m.\u001b[39mfetchall()\n\u001b[0;32m     12\u001b[0m \u001b[38;5;28;01mfor\u001b[39;00m i \u001b[38;5;129;01min\u001b[39;00m \u001b[38;5;28mrange\u001b[39m(\u001b[38;5;241m0\u001b[39m,\u001b[38;5;28mlen\u001b[39m(mov_res)):\n\u001b[1;32m---> 13\u001b[0m    \u001b[38;5;28;01mif\u001b[39;00m (\u001b[43mmov_res\u001b[49m\u001b[43m[\u001b[49m\u001b[43mi\u001b[49m\u001b[43m]\u001b[49m\u001b[43m[\u001b[49m\u001b[38;5;241;43m1\u001b[39;49m\u001b[43m]\u001b[49m \u001b[38;5;241m==\u001b[39m \u001b[38;5;241m-\u001b[39m\u001b[38;5;241m1\u001b[39m):\n\u001b[0;32m     14\u001b[0m        mov_res \u001b[38;5;241m=\u001b[39m (mov_res[i][\u001b[38;5;241m0\u001b[39m],\u001b[38;5;124m'\u001b[39m\u001b[38;5;124mNone\u001b[39m\u001b[38;5;124m'\u001b[39m,mov_res[i][\u001b[38;5;241m2\u001b[39m],mov_res[i][\u001b[38;5;241m3\u001b[39m],mov_res[i][\u001b[38;5;241m4\u001b[39m])\n\u001b[0;32m     15\u001b[0m    \u001b[38;5;28;01melse\u001b[39;00m:\n",
      "\u001b[1;31mTypeError\u001b[0m: 'decimal.Decimal' object is not subscriptable"
     ]
    }
   ],
   "source": [
    "import psycopg2\n",
    "from flask import Flask, render_template, request\n",
    "import datetime\n",
    "\n",
    "app = Flask(__name__)\n",
    "connect = psycopg2.connect(\"dbname=term user=postgres password=postgres\")\n",
    "cur = connect.cursor()  # create cursor\n",
    "\n",
    "\n",
    "cur.execute(\"((select title, avg(ratings) as ratings, director, genre, rel_date from movies,reviews where id = mid group by title, director, genre, rel_date) union (select title, null as ratings, director, genre, rel_date from movies where id not in (select distinct mid from reviews))) order by rel_date desc;\")\n",
    "mov_res = cur.fetchall()\n",
    "for i in range(0,len(mov_res)):\n",
    "   if (mov_res[i][1] == decimal.Decimal(-1)):\n",
    "       mov_res = (mov_res[i][0],'None',mov_res[i][2],mov_res[i][3],mov_res[i][4])\n",
    "   else:\n",
    "       mov_res = (mov_res[i][0],round(mov_res[i][1],2),mov_res[i][2],mov_res[i][3],mov_res[i][4])\n",
    "\n",
    "# print(type(mov_res[0][1]))\n",
    "print(mov_res)"
   ]
  },
  {
   "cell_type": "code",
   "execution_count": null,
   "metadata": {},
   "outputs": [],
   "source": []
  }
 ],
 "metadata": {
  "kernelspec": {
   "display_name": "Python 3",
   "language": "python",
   "name": "python3"
  },
  "language_info": {
   "codemirror_mode": {
    "name": "ipython",
    "version": 3
   },
   "file_extension": ".py",
   "mimetype": "text/x-python",
   "name": "python",
   "nbconvert_exporter": "python",
   "pygments_lexer": "ipython3",
   "version": "3.11.9"
  }
 },
 "nbformat": 4,
 "nbformat_minor": 2
}
